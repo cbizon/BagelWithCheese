{
 "cells": [
  {
   "cell_type": "code",
   "id": "initial_id",
   "metadata": {
    "collapsed": true,
    "ExecuteTime": {
     "end_time": "2025-08-14T14:55:07.817566Z",
     "start_time": "2025-08-14T14:55:07.779321Z"
    }
   },
   "source": "import json",
   "outputs": [],
   "execution_count": 1
  },
  {
   "metadata": {
    "ExecuteTime": {
     "end_time": "2025-08-14T14:59:12.504703Z",
     "start_time": "2025-08-14T14:59:01.707909Z"
    }
   },
   "cell_type": "code",
   "source": [
    "entities = []\n",
    "with open(\"../input_data/annotations-7-30-25.jsonl\", \"r\") as f:\n",
    "    for line in f:\n",
    "        data = json.loads(line)\n",
    "        entities.append(data[\"entity\"])"
   ],
   "id": "a4e8622682b5714b",
   "outputs": [],
   "execution_count": 5
  },
  {
   "metadata": {
    "ExecuteTime": {
     "end_time": "2025-08-14T14:59:25.345861Z",
     "start_time": "2025-08-14T14:59:25.342553Z"
    }
   },
   "cell_type": "code",
   "source": [
    "for i in range(100):\n",
    "    print(entities[i])"
   ],
   "id": "9a34fa5b7517c923",
   "outputs": [
    {
     "name": "stdout",
     "output_type": "stream",
     "text": [
      "chronic Pseudomonas aeruginosa infection\n",
      "cystic fibrosis\n",
      "Pseudomonas aeruginosa (Pa) infection\n",
      "cystic fibrosis\n",
      "CF\n",
      "patients\n",
      "long-term\n",
      "pulmonary disease\n",
      "shorter survival\n",
      "chronic Pa infection\n",
      "CPA\n",
      "reduced lung function\n",
      "faster rate of lung decline\n",
      "rates\n",
      "exacerbations\n",
      "shorter survival\n",
      "exome sequencing\n",
      "extreme phenotype design\n",
      "Pa infection\n",
      "CF\n",
      "respiratory disease\n",
      "study\n",
      "investigate\n",
      "missense\n",
      "Pa infection\n",
      "incidence\n",
      "age\n",
      "Pa infection\n",
      "chronic Pa infection\n",
      "incidence\n",
      "cohort\n",
      "adult\n",
      "CF\n",
      "patients\n",
      "centre\n",
      "Polymerase chain reaction\n",
      "direct sequencing\n",
      "DNA samples\n",
      "adult\n",
      "CF\n",
      "patients\n",
      "Cochin Hospital CF centre\n",
      "defects\n",
      "pulmonary infection\n",
      "Pa\n",
      "patients\n",
      "CPA\n",
      "CF\n",
      "patients\n",
      "Pa infection\n",
      "CF\n",
      "patients\n",
      "Pa infection\n",
      "patients\n",
      "CPA\n",
      "missense\n",
      "patients\n",
      "CPA\n",
      "CF\n",
      "patients\n",
      "CPA\n",
      "patients\n",
      "CPA\n",
      "missense\n",
      "male\n",
      "CF\n",
      "patients\n",
      "CPA\n",
      "class II mutations\n",
      "male\n",
      "CF\n",
      "patients\n",
      "CPA\n",
      "class II mutations\n",
      "missense\n",
      "pathogenesis\n",
      "CPA\n",
      "male\n",
      "CF\n",
      "Nonylphenol diethoxylate\n",
      "inhibits\n",
      "apoptosis\n",
      "induced\n",
      "PC12 cells\n",
      "Nonylphenol\n",
      "short-chain nonylphenol ethoxylates\n",
      "NP2 EO\n",
      "present\n",
      "aquatic environment\n",
      "wastewater\n",
      "contaminants\n",
      "toxic effects\n",
      "aquatic species\n",
      "Apoptosis\n",
      "induced\n",
      "serum\n",
      "deprivation\n",
      "copper\n",
      "treatment\n",
      "toxicity\n"
     ]
    }
   ],
   "execution_count": 6
  }
 ],
 "metadata": {
  "kernelspec": {
   "display_name": "Python 3",
   "language": "python",
   "name": "python3"
  },
  "language_info": {
   "codemirror_mode": {
    "name": "ipython",
    "version": 2
   },
   "file_extension": ".py",
   "mimetype": "text/x-python",
   "name": "python",
   "nbconvert_exporter": "python",
   "pygments_lexer": "ipython2",
   "version": "2.7.6"
  }
 },
 "nbformat": 4,
 "nbformat_minor": 5
}
